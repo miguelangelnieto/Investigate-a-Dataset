{
 "cells": [
  {
   "cell_type": "markdown",
   "metadata": {},
   "source": [
    "# Titanic Passangers Data Analysis"
   ]
  },
  {
   "cell_type": "markdown",
   "metadata": {},
   "source": [
    "## Questions"
   ]
  },
  {
   "cell_type": "markdown",
   "metadata": {},
   "source": [
    "The data to analyse includes information from passengers of Titanic, that collided with an iceberg on 15 April 1912. From 2224 people on board 1500 died. In the CVS used in this project we have data from 891 people. We usually see in movies that in case of a dangerous situation or catastrophe, women and children have priority. We are going to investigate if that was the case here too or there were some other factors that could affect the chances to survive:\n",
    "\n",
    "- Gender\n",
    "- Age\n",
    "- Passenger Class (wealth)\n",
    "\n",
    "So, the questions we want to answer is if those characteristics could increase or decrease your chances to survive."
   ]
  },
  {
   "cell_type": "markdown",
   "metadata": {},
   "source": [
    "## Data Wrangling "
   ]
  },
  {
   "cell_type": "code",
   "execution_count": 736,
   "metadata": {
    "collapsed": false
   },
   "outputs": [],
   "source": [
    "import pandas as pd\n",
    "import seaborn as sns\n",
    "import numpy as np\n",
    "from math import sqrt\n",
    "\n",
    "filename = \"titanic_data.csv\"\n",
    "titanic_data = pd.read_csv(filename)"
   ]
  },
  {
   "cell_type": "markdown",
   "metadata": {},
   "source": [
    "This is a small number of lines that shows the kind of information we are going to work on. This is the column information taken from https://www.kaggle.com/c/titanic/data that we will use as reference:\n",
    "\n",
    "`survival        Survival\n",
    "                (0 = No; 1 = Yes)\n",
    "pclass          Passenger Class\n",
    "                (1 = 1st; 2 = 2nd; 3 = 3rd)\n",
    "name            Name\n",
    "sex             Sex\n",
    "age             Age\n",
    "sibsp           Number of Siblings/Spouses Aboard\n",
    "parch           Number of Parents/Children Aboard\n",
    "ticket          Ticket Number\n",
    "fare            Passenger Fare\n",
    "cabin           Cabin\n",
    "embarked        Port of Embarkation\n",
    "                (C = Cherbourg; Q = Queenstown; S = Southampton) `"
   ]
  },
  {
   "cell_type": "code",
   "execution_count": 737,
   "metadata": {
    "collapsed": false
   },
   "outputs": [
    {
     "data": {
      "text/html": [
       "<div>\n",
       "<table border=\"1\" class=\"dataframe\">\n",
       "  <thead>\n",
       "    <tr style=\"text-align: right;\">\n",
       "      <th></th>\n",
       "      <th>PassengerId</th>\n",
       "      <th>Survived</th>\n",
       "      <th>Pclass</th>\n",
       "      <th>Name</th>\n",
       "      <th>Sex</th>\n",
       "      <th>Age</th>\n",
       "      <th>SibSp</th>\n",
       "      <th>Parch</th>\n",
       "      <th>Ticket</th>\n",
       "      <th>Fare</th>\n",
       "      <th>Cabin</th>\n",
       "      <th>Embarked</th>\n",
       "    </tr>\n",
       "  </thead>\n",
       "  <tbody>\n",
       "    <tr>\n",
       "      <th>0</th>\n",
       "      <td>1</td>\n",
       "      <td>0</td>\n",
       "      <td>3</td>\n",
       "      <td>Braund, Mr. Owen Harris</td>\n",
       "      <td>male</td>\n",
       "      <td>22.0</td>\n",
       "      <td>1</td>\n",
       "      <td>0</td>\n",
       "      <td>A/5 21171</td>\n",
       "      <td>7.2500</td>\n",
       "      <td>NaN</td>\n",
       "      <td>S</td>\n",
       "    </tr>\n",
       "    <tr>\n",
       "      <th>1</th>\n",
       "      <td>2</td>\n",
       "      <td>1</td>\n",
       "      <td>1</td>\n",
       "      <td>Cumings, Mrs. John Bradley (Florence Briggs Th...</td>\n",
       "      <td>female</td>\n",
       "      <td>38.0</td>\n",
       "      <td>1</td>\n",
       "      <td>0</td>\n",
       "      <td>PC 17599</td>\n",
       "      <td>71.2833</td>\n",
       "      <td>C85</td>\n",
       "      <td>C</td>\n",
       "    </tr>\n",
       "  </tbody>\n",
       "</table>\n",
       "</div>"
      ],
      "text/plain": [
       "   PassengerId  Survived  Pclass  \\\n",
       "0            1         0       3   \n",
       "1            2         1       1   \n",
       "\n",
       "                                                Name     Sex   Age  SibSp  \\\n",
       "0                            Braund, Mr. Owen Harris    male  22.0      1   \n",
       "1  Cumings, Mrs. John Bradley (Florence Briggs Th...  female  38.0      1   \n",
       "\n",
       "   Parch     Ticket     Fare Cabin Embarked  \n",
       "0      0  A/5 21171   7.2500   NaN        S  \n",
       "1      0   PC 17599  71.2833   C85        C  "
      ]
     },
     "execution_count": 737,
     "metadata": {},
     "output_type": "execute_result"
    }
   ],
   "source": [
    "titanic_data.head(2)"
   ]
  },
  {
   "cell_type": "code",
   "execution_count": 738,
   "metadata": {
    "collapsed": false
   },
   "outputs": [
    {
     "data": {
      "text/html": [
       "<div>\n",
       "<table border=\"1\" class=\"dataframe\">\n",
       "  <thead>\n",
       "    <tr style=\"text-align: right;\">\n",
       "      <th></th>\n",
       "      <th>PassengerId</th>\n",
       "      <th>Survived</th>\n",
       "      <th>Pclass</th>\n",
       "      <th>Age</th>\n",
       "      <th>SibSp</th>\n",
       "      <th>Parch</th>\n",
       "      <th>Fare</th>\n",
       "    </tr>\n",
       "  </thead>\n",
       "  <tbody>\n",
       "    <tr>\n",
       "      <th>count</th>\n",
       "      <td>891.000000</td>\n",
       "      <td>891.000000</td>\n",
       "      <td>891.000000</td>\n",
       "      <td>714.000000</td>\n",
       "      <td>891.000000</td>\n",
       "      <td>891.000000</td>\n",
       "      <td>891.000000</td>\n",
       "    </tr>\n",
       "    <tr>\n",
       "      <th>mean</th>\n",
       "      <td>446.000000</td>\n",
       "      <td>0.383838</td>\n",
       "      <td>2.308642</td>\n",
       "      <td>29.699118</td>\n",
       "      <td>0.523008</td>\n",
       "      <td>0.381594</td>\n",
       "      <td>32.204208</td>\n",
       "    </tr>\n",
       "    <tr>\n",
       "      <th>std</th>\n",
       "      <td>257.353842</td>\n",
       "      <td>0.486592</td>\n",
       "      <td>0.836071</td>\n",
       "      <td>14.526497</td>\n",
       "      <td>1.102743</td>\n",
       "      <td>0.806057</td>\n",
       "      <td>49.693429</td>\n",
       "    </tr>\n",
       "    <tr>\n",
       "      <th>min</th>\n",
       "      <td>1.000000</td>\n",
       "      <td>0.000000</td>\n",
       "      <td>1.000000</td>\n",
       "      <td>0.420000</td>\n",
       "      <td>0.000000</td>\n",
       "      <td>0.000000</td>\n",
       "      <td>0.000000</td>\n",
       "    </tr>\n",
       "    <tr>\n",
       "      <th>25%</th>\n",
       "      <td>223.500000</td>\n",
       "      <td>0.000000</td>\n",
       "      <td>2.000000</td>\n",
       "      <td>20.125000</td>\n",
       "      <td>0.000000</td>\n",
       "      <td>0.000000</td>\n",
       "      <td>7.910400</td>\n",
       "    </tr>\n",
       "    <tr>\n",
       "      <th>50%</th>\n",
       "      <td>446.000000</td>\n",
       "      <td>0.000000</td>\n",
       "      <td>3.000000</td>\n",
       "      <td>28.000000</td>\n",
       "      <td>0.000000</td>\n",
       "      <td>0.000000</td>\n",
       "      <td>14.454200</td>\n",
       "    </tr>\n",
       "    <tr>\n",
       "      <th>75%</th>\n",
       "      <td>668.500000</td>\n",
       "      <td>1.000000</td>\n",
       "      <td>3.000000</td>\n",
       "      <td>38.000000</td>\n",
       "      <td>1.000000</td>\n",
       "      <td>0.000000</td>\n",
       "      <td>31.000000</td>\n",
       "    </tr>\n",
       "    <tr>\n",
       "      <th>max</th>\n",
       "      <td>891.000000</td>\n",
       "      <td>1.000000</td>\n",
       "      <td>3.000000</td>\n",
       "      <td>80.000000</td>\n",
       "      <td>8.000000</td>\n",
       "      <td>6.000000</td>\n",
       "      <td>512.329200</td>\n",
       "    </tr>\n",
       "  </tbody>\n",
       "</table>\n",
       "</div>"
      ],
      "text/plain": [
       "       PassengerId    Survived      Pclass         Age       SibSp  \\\n",
       "count   891.000000  891.000000  891.000000  714.000000  891.000000   \n",
       "mean    446.000000    0.383838    2.308642   29.699118    0.523008   \n",
       "std     257.353842    0.486592    0.836071   14.526497    1.102743   \n",
       "min       1.000000    0.000000    1.000000    0.420000    0.000000   \n",
       "25%     223.500000    0.000000    2.000000   20.125000    0.000000   \n",
       "50%     446.000000    0.000000    3.000000   28.000000    0.000000   \n",
       "75%     668.500000    1.000000    3.000000   38.000000    1.000000   \n",
       "max     891.000000    1.000000    3.000000   80.000000    8.000000   \n",
       "\n",
       "            Parch        Fare  \n",
       "count  891.000000  891.000000  \n",
       "mean     0.381594   32.204208  \n",
       "std      0.806057   49.693429  \n",
       "min      0.000000    0.000000  \n",
       "25%      0.000000    7.910400  \n",
       "50%      0.000000   14.454200  \n",
       "75%      0.000000   31.000000  \n",
       "max      6.000000  512.329200  "
      ]
     },
     "execution_count": 738,
     "metadata": {},
     "output_type": "execute_result"
    }
   ],
   "source": [
    "titanic_data.describe()"
   ]
  },
  {
   "cell_type": "markdown",
   "metadata": {},
   "source": [
    "I start the data analysis by describing the data. The first row, that counts the number of elements per column, can be used to see if there are numbers that doesn't look good. It shows something we need to investigate. We have 891 passengers, but only 889 have Port of Embarkation so two people are missing. The idea is to check if those two people were really in the Titanic. Since there are only two people, we can just find the names and do a quick search in Google.\n",
    "\n",
    "I use the following link as reference in order to be able to find nulls and then print the name:\n",
    "\n",
    "http://stackoverflow.com/questions/18172851/deleting-dataframe-row-in-pandas-based-on-column-value\n",
    "\n",
    "Both Icard, Miss. Amelie and Stone, Mrs. George Nelson (Martha Evelyn) actually embarked, so the values are correct and don't need to be removed since they don't affect the answers to the questions we have.\n",
    "\n",
    "There are also 177 without age. They still have information like gender and if survived or not, so the information is still need. When we group by age, those with NaN will be ignored so won't affect be listed anyway. Taking in account that we only have 891 people from the total number of passenges, and 177 don't even have age, we would need to take the age study result with a pinch of salt."
   ]
  },
  {
   "cell_type": "code",
   "execution_count": 739,
   "metadata": {
    "collapsed": false
   },
   "outputs": [
    {
     "data": {
      "text/plain": [
       "61                           Icard, Miss. Amelie\n",
       "829    Stone, Mrs. George Nelson (Martha Evelyn)\n",
       "Name: Name, dtype: object"
      ]
     },
     "execution_count": 739,
     "metadata": {},
     "output_type": "execute_result"
    }
   ],
   "source": [
    "# Find those with null embarked value\n",
    "titanic_data_without_embarked = titanic_data[titanic_data.Embarked.isnull()]\n",
    "titanic_data_without_embarked[\"Name\"]"
   ]
  },
  {
   "cell_type": "markdown",
   "metadata": {},
   "source": [
    "Data description shows that children with less than one year are showed in fractional way:\n",
    "\n",
    "\"Fractional if Age less than One (1)\"\n",
    "\n",
    "Using that information to group by age could cause problems, so we are going to round all those less than one year to one. After the change, our data that does \"Age: 1\" will actually mean between 0 and 1. To do that, I apply a function to the column \"Age\" and store it again in the original data."
   ]
  },
  {
   "cell_type": "code",
   "execution_count": 740,
   "metadata": {
    "collapsed": false
   },
   "outputs": [],
   "source": [
    "def normalize_age_below_one(age):\n",
    "    if age.item() < 1:\n",
    "        return 1\n",
    "    else:\n",
    "        return age.item()\n",
    "        \n",
    "titanic_data['Age'] = titanic_data['Age'].apply(normalize_age_below_one)"
   ]
  },
  {
   "cell_type": "markdown",
   "metadata": {},
   "source": [
    "## Analyzing the data"
   ]
  },
  {
   "cell_type": "markdown",
   "metadata": {},
   "source": [
    "### Survivors per Class"
   ]
  },
  {
   "cell_type": "markdown",
   "metadata": {},
   "source": [
    "First piece of data to check is the number of survivors per Class. Usually the ticket class is usually related with the wealth. In this first graph we compare the total numeber of passengers per class and how many of them survived. We merged two bar graphs to get a picture that could show us the relation between the number of people on each class and how many survived.\n",
    "\n"
   ]
  },
  {
   "cell_type": "code",
   "execution_count": 741,
   "metadata": {
    "collapsed": false
   },
   "outputs": [
    {
     "data": {
      "text/html": [
       "<div>\n",
       "<table border=\"1\" class=\"dataframe\">\n",
       "  <thead>\n",
       "    <tr style=\"text-align: right;\">\n",
       "      <th></th>\n",
       "      <th>Survived</th>\n",
       "      <th>Total</th>\n",
       "    </tr>\n",
       "    <tr>\n",
       "      <th>Adult_Kid</th>\n",
       "      <th></th>\n",
       "      <th></th>\n",
       "    </tr>\n",
       "  </thead>\n",
       "  <tbody>\n",
       "    <tr>\n",
       "      <th>(0, 2]</th>\n",
       "      <td>15</td>\n",
       "      <td>24</td>\n",
       "    </tr>\n",
       "    <tr>\n",
       "      <th>(2, 4]</th>\n",
       "      <td>12</td>\n",
       "      <td>16</td>\n",
       "    </tr>\n",
       "    <tr>\n",
       "      <th>(4, 8]</th>\n",
       "      <td>9</td>\n",
       "      <td>14</td>\n",
       "    </tr>\n",
       "    <tr>\n",
       "      <th>(8, 10]</th>\n",
       "      <td>2</td>\n",
       "      <td>10</td>\n",
       "    </tr>\n",
       "    <tr>\n",
       "      <th>(10, 15]</th>\n",
       "      <td>11</td>\n",
       "      <td>19</td>\n",
       "    </tr>\n",
       "    <tr>\n",
       "      <th>(15, 20]</th>\n",
       "      <td>33</td>\n",
       "      <td>96</td>\n",
       "    </tr>\n",
       "    <tr>\n",
       "      <th>(20, 30]</th>\n",
       "      <td>84</td>\n",
       "      <td>230</td>\n",
       "    </tr>\n",
       "    <tr>\n",
       "      <th>(30, 40]</th>\n",
       "      <td>69</td>\n",
       "      <td>155</td>\n",
       "    </tr>\n",
       "    <tr>\n",
       "      <th>(40, 50]</th>\n",
       "      <td>33</td>\n",
       "      <td>86</td>\n",
       "    </tr>\n",
       "    <tr>\n",
       "      <th>(50, 60]</th>\n",
       "      <td>17</td>\n",
       "      <td>42</td>\n",
       "    </tr>\n",
       "    <tr>\n",
       "      <th>(60, 70]</th>\n",
       "      <td>4</td>\n",
       "      <td>17</td>\n",
       "    </tr>\n",
       "    <tr>\n",
       "      <th>(70, 80]</th>\n",
       "      <td>1</td>\n",
       "      <td>5</td>\n",
       "    </tr>\n",
       "  </tbody>\n",
       "</table>\n",
       "</div>"
      ],
      "text/plain": [
       "           Survived  Total\n",
       "Adult_Kid                 \n",
       "(0, 2]           15     24\n",
       "(2, 4]           12     16\n",
       "(4, 8]            9     14\n",
       "(8, 10]           2     10\n",
       "(10, 15]         11     19\n",
       "(15, 20]         33     96\n",
       "(20, 30]         84    230\n",
       "(30, 40]         69    155\n",
       "(40, 50]         33     86\n",
       "(50, 60]         17     42\n",
       "(60, 70]          4     17\n",
       "(70, 80]          1      5"
      ]
     },
     "execution_count": 741,
     "metadata": {},
     "output_type": "execute_result"
    },
    {
     "data": {
      "image/png": "[encoded data removed]",
      "text/plain": [
       "<matplotlib.figure.Figure at 0x1436ca390>"
      ]
     },
     "metadata": {},
     "output_type": "display_data"
    }
   ],
   "source": [
    "# Bar plot\n",
    "gp=titanic_data.groupby(['Pclass']).sum()['Survived'].plot(kind='barh')\n",
    "gp=titanic_data.groupby(['Pclass']).count()['PassengerId'].plot(kind='barh',alpha=0.5)\n",
    "\n",
    "gp.set_xlabel('Survivors', fontsize=14)\n",
    "gp.set_ylabel('Class', fontsize=14)\n",
    "gp.set_title(\"Survivors per Class\", fontsize=14)\n",
    "\n",
    "# Both dataframes are merged and columns renamed\n",
    "merged = by_survived.merge(by_passenger,left_index=True,right_index=True)\n",
    "merged.columns=['Survived', 'Total']\n",
    "merged"
   ]
  },
  {
   "cell_type": "markdown",
   "metadata": {},
   "source": [
    "Now, we calculate the surviving ratio on each class. The idea is to see if there are groups with higher surviving ratio than others."
   ]
  },
  {
   "cell_type": "code",
   "execution_count": 742,
   "metadata": {
    "collapsed": false
   },
   "outputs": [
    {
     "name": "stdout",
     "output_type": "stream",
     "text": [
      "First class survival ratio: 0.6296\n",
      "Second class ratio: 0.4728\n",
      "Third class ratio: 0.2424\n"
     ]
    },
    {
     "data": {
      "image/png": "[encoded data removed]",
      "text/plain": [
       "<matplotlib.figure.Figure at 0x147191c10>"
      ]
     },
     "metadata": {},
     "output_type": "display_data"
    }
   ],
   "source": [
    "by_survived=titanic_data.groupby('Pclass')[['Survived']].sum()\n",
    "by_passenger=titanic_data.groupby('Pclass')[['PassengerId']].count()\n",
    "\n",
    "# We get the ratio per class and print it, rounded to two decimals\n",
    "ratio = (by_survived['Survived'] / by_passenger['PassengerId'])*100\n",
    "print \"First class survival ratio: \" + str(round(ratio[1],2)/100)\n",
    "print \"Second class ratio: \" + str(round(ratio[2],2)/100)\n",
    "print \"Third class ratio: \" + str(round(ratio[3],2)/100)\n",
    "\n",
    "gp = ratio.plot.pie()\n",
    "gp.set_aspect(1)"
   ]
  },
  {
   "cell_type": "markdown",
   "metadata": {},
   "source": [
    "## Statistical test\n",
    "\n",
    "**Null: u1 - u2 = 0**\n",
    "\n",
    "**Alternative u1 > u2**\n",
    "\n",
    "**One tail test (being on first class increases your chances of surviving over third class)**\n",
    "\n",
    "**alpha = 0,05**"
   ]
  },
  {
   "cell_type": "code",
   "execution_count": 743,
   "metadata": {
    "collapsed": false
   },
   "outputs": [
    {
     "name": "stdout",
     "output_type": "stream",
     "text": [
      "T-statistics: 10.1374169524\n",
      "T-critical: 1.64701786184\n"
     ]
    }
   ],
   "source": [
    "first=titanic_data[titanic_data.Pclass.eq(1)]\n",
    "third=titanic_data[titanic_data.Pclass.eq(3)]\n",
    "\n",
    "first_Survived=first[\"Survived\"]\n",
    "third_Survived=third[\"Survived\"]\n",
    "\n",
    "# 0.742038216561\n",
    "first_mean=first[\"Survived\"].mean() # 0.62962962963\n",
    "first_std=first[\"Survived\"].std() # 0.484025611327\n",
    "first_size=first[\"Survived\"].count() # 216\n",
    "third_mean=third[\"Survived\"].mean() # 0.242362525458\n",
    "third_std=third[\"Survived\"].std() # 0.428949498646\n",
    "third_size=third[\"Survived\"].count() # 491\n",
    "\n",
    "# Standard Error\n",
    "se = sqrt(((first_std * first_std) / first_size) + ((third_std * third_std) / third_size)) # 0.0382017535619\n",
    "# T statistics\n",
    "ts = (first_mean - third_mean) / se # 10.1374169524\n",
    "print \"T-statistics: \" + str(ts)\n",
    "# Degrees of freedom\n",
    "df = (first_size + third_size) - 2 # 705\n",
    "# t critical vaue is 1.647017861844855, calculated using:\n",
    "# http://scistatcalc.blogspot.com.es/2013/11/online-critical-t-value-calculator.html\n",
    "tc = 1.647017861844855\n",
    "print \"T-critical: \" + str(tc)"
   ]
  },
  {
   "cell_type": "markdown",
   "metadata": {},
   "source": [
    "### Survivors per Gender"
   ]
  },
  {
   "cell_type": "markdown",
   "metadata": {},
   "source": [
    "This analysis is similar to the one done with classes. In this case, we check if gender can affect the surviving chances."
   ]
  },
  {
   "cell_type": "code",
   "execution_count": 744,
   "metadata": {
    "collapsed": false
   },
   "outputs": [
    {
     "data": {
      "text/html": [
       "<div>\n",
       "<table border=\"1\" class=\"dataframe\">\n",
       "  <thead>\n",
       "    <tr style=\"text-align: right;\">\n",
       "      <th></th>\n",
       "      <th>Survived</th>\n",
       "      <th>Total</th>\n",
       "    </tr>\n",
       "    <tr>\n",
       "      <th>Sex</th>\n",
       "      <th></th>\n",
       "      <th></th>\n",
       "    </tr>\n",
       "  </thead>\n",
       "  <tbody>\n",
       "    <tr>\n",
       "      <th>female</th>\n",
       "      <td>233</td>\n",
       "      <td>314</td>\n",
       "    </tr>\n",
       "    <tr>\n",
       "      <th>male</th>\n",
       "      <td>109</td>\n",
       "      <td>577</td>\n",
       "    </tr>\n",
       "  </tbody>\n",
       "</table>\n",
       "</div>"
      ],
      "text/plain": [
       "        Survived  Total\n",
       "Sex                    \n",
       "female       233    314\n",
       "male         109    577"
      ]
     },
     "execution_count": 744,
     "metadata": {},
     "output_type": "execute_result"
    },
    {
     "data": {
      "image/png": "[encoded data removed]",
      "text/plain": [
       "<matplotlib.figure.Figure at 0x144170110>"
      ]
     },
     "metadata": {},
     "output_type": "display_data"
    }
   ],
   "source": [
    "gp=titanic_data.groupby(['Sex']).sum()['Survived'].plot(kind='barh')\n",
    "gp=titanic_data.groupby(['Sex']).count()['PassengerId'].plot(kind='barh',alpha=0.5)\n",
    "\n",
    "gp.set_xlabel('Survivors', fontsize=14)\n",
    "gp.set_ylabel('Gender', fontsize=14)\n",
    "gp.set_title(\"Survivors per Gender\", fontsize=14)\n",
    "titanic_data.groupby('Sex')[['Survived']].sum()\n",
    "\n",
    "by_survived=titanic_data.groupby('Sex')[['Survived']].sum()\n",
    "by_passenger=titanic_data.groupby('Sex')[['PassengerId']].count()\n",
    "\n",
    "# Both dataframes are merged and columns renamed\n",
    "merged = by_survived.merge(by_passenger,left_index=True,right_index=True)\n",
    "merged.columns=['Survived', 'Total']\n",
    "merged"
   ]
  },
  {
   "cell_type": "markdown",
   "metadata": {},
   "source": [
    "We get the ratio between the survivors by gender and the total number of passengers."
   ]
  },
  {
   "cell_type": "code",
   "execution_count": 745,
   "metadata": {
    "collapsed": false
   },
   "outputs": [
    {
     "name": "stdout",
     "output_type": "stream",
     "text": [
      "Female survival ratio: 0.2615\n",
      "Male survival ratio: 0.1223\n"
     ]
    },
    {
     "data": {
      "image/png": "[encoded data removed]",
      "text/plain": [
       "<matplotlib.figure.Figure at 0x1393ec8d0>"
      ]
     },
     "metadata": {},
     "output_type": "display_data"
    }
   ],
   "source": [
    "by_survived=titanic_data.groupby('Sex')[['Survived']].sum()\n",
    "#by_passenger=titanic_data.groupby('Sex')[['PassengerId']].count()\n",
    "\n",
    "# We get the ratio per gender and print it, rounded to two decimals\n",
    "ratio = (by_survived['Survived'] / titanic_data['PassengerId'].count())*100\n",
    "print \"Female survival ratio: \" + str(round(ratio[0],2)/100)\n",
    "print \"Male survival ratio: \" + str(round(ratio[1],2)/100)\n",
    "\n",
    "gp = ratio.plot.pie()\n",
    "gp.set_aspect(1)"
   ]
  },
  {
   "cell_type": "markdown",
   "metadata": {},
   "source": [
    "## Statistical test\n",
    "\n",
    "**Null: u1 - u2 = 0**\n",
    "\n",
    "**Alternative u1 > u2**\n",
    "\n",
    "**One tail test (being on first class increases your chances of surviving over third class)**\n",
    "\n",
    "**alpha = 0,05**"
   ]
  },
  {
   "cell_type": "code",
   "execution_count": 746,
   "metadata": {
    "collapsed": false
   },
   "outputs": [
    {
     "name": "stdout",
     "output_type": "stream",
     "text": [
      "T-statistics: 18.6718331773\n",
      "T-critical: 1.64656945139\n"
     ]
    }
   ],
   "source": [
    "female=titanic_data[titanic_data.Sex.eq(\"female\")]\n",
    "male=titanic_data[titanic_data.Sex.eq(\"male\")]\n",
    "\n",
    "female_Survived=female[\"Survived\"]\n",
    "male_Survived=male[\"Survived\"]\n",
    "\n",
    "# 0.742038216561\n",
    "fem_mean=female[\"Survived\"].mean() # 0.742038216561\n",
    "fem_std=female[\"Survived\"].std() # 0.438211203916\n",
    "fem_size=female[\"Survived\"].count() # 314\n",
    "male_mean=male[\"Survived\"].mean() # 0.188908145581\n",
    "male_std=male[\"Survived\"].std() # 0.391775277786\n",
    "male_size=male[\"Survived\"].count() # 577\n",
    "\n",
    "# Standard Error\n",
    "se = sqrt(((fem_std * fem_std) / fem_size) + ((male_std * male_std) / male_size)) # 0.0296237688999\n",
    "# T statistics\n",
    "ts = (fem_mean - male_mean) / se # 18.6718331773\n",
    "print \"T-statistics: \" + str(ts)\n",
    "# Degrees of freedom\n",
    "df = (fem_size + male_size) - 2 # 889\n",
    "# t critical vaue is 1.646569451388022, calculated using:\n",
    "# http://scistatcalc.blogspot.com.es/2013/11/online-critical-t-value-calculator.html\n",
    "tc = 1.646569451388022\n",
    "print \"T-critical: \" + str(tc)"
   ]
  },
  {
   "cell_type": "markdown",
   "metadata": {},
   "source": [
    "### Survivors per age"
   ]
  },
  {
   "cell_type": "markdown",
   "metadata": {},
   "source": [
    "Now, the third data to analyse is the age of surviving passengers to see if it could affect your chances to survive. to make the graph easier to understand, we group the ages."
   ]
  },
  {
   "cell_type": "code",
   "execution_count": 747,
   "metadata": {
    "collapsed": false
   },
   "outputs": [
    {
     "data": {
      "text/plain": [
       "<matplotlib.axes._subplots.AxesSubplot at 0x13c68f8d0>"
      ]
     },
     "execution_count": 747,
     "metadata": {},
     "output_type": "execute_result"
    },
    {
     "data": {
      "image/png": "[encoded data removed]",
      "text/plain": [
       "<matplotlib.figure.Figure at 0x13f779d10>"
      ]
     },
     "metadata": {},
     "output_type": "display_data"
    },
    {
     "data": {
      "image/png": "[encoded data removed]",
      "text/plain": [
       "<matplotlib.figure.Figure at 0x1403f2050>"
      ]
     },
     "metadata": {},
     "output_type": "display_data"
    }
   ],
   "source": [
    "titanic_data['Adult_Kid'] = pd.cut(titanic_data['Age'], bins=[0,2,4,8,10,15,20,30,40,50,60,70,80])\n",
    "titanic_data.groupby(['Adult_Kid']).sum()['Survived'].plot(linewidth=2,legend='Survived')\n",
    "titanic_data.groupby(['Adult_Kid']).count()['PassengerId'].plot(linewidth=2,legend='Passengers')\n",
    "\n",
    "titanic_data.boxplot(column=['Age'], by=['Survived'])"
   ]
  },
  {
   "cell_type": "markdown",
   "metadata": {},
   "source": [
    "Here we analyse the ratio of survival in each age group."
   ]
  },
  {
   "cell_type": "code",
   "execution_count": 748,
   "metadata": {
    "collapsed": false
   },
   "outputs": [
    {
     "name": "stdout",
     "output_type": "stream",
     "text": [
      "Adult_Kid\n",
      "(0, 2]      0.625000\n",
      "(2, 4]      0.750000\n",
      "(4, 8]      0.642857\n",
      "(8, 10]     0.200000\n",
      "(10, 15]    0.578947\n",
      "(15, 20]    0.343750\n",
      "(20, 30]    0.365217\n",
      "(30, 40]    0.445161\n",
      "(40, 50]    0.383721\n",
      "(50, 60]    0.404762\n",
      "(60, 70]    0.235294\n",
      "(70, 80]    0.200000\n",
      "dtype: float64\n"
     ]
    },
    {
     "data": {
      "image/png": "[encoded data removed]",
      "text/plain": [
       "<matplotlib.figure.Figure at 0x13d98c1d0>"
      ]
     },
     "metadata": {},
     "output_type": "display_data"
    }
   ],
   "source": [
    "by_survived=titanic_data.groupby('Adult_Kid')[['Survived']].sum()\n",
    "by_passenger=titanic_data.groupby('Adult_Kid')[['PassengerId']].count()\n",
    "\n",
    "ratio = by_survived['Survived'] / by_passenger['PassengerId']\n",
    "print ratio\n",
    "\n",
    "gp = ratio.plot.pie()\n",
    "gp.set_aspect(1)"
   ]
  },
  {
   "cell_type": "markdown",
   "metadata": {},
   "source": [
    "## Conclusions"
   ]
  },
  {
   "cell_type": "markdown",
   "metadata": {},
   "source": [
    "I have performed a comparison based analysis to see the relation between a variable and how it changes the surviving changes. Passenger Class, Gender and Age where the ones to analyze.\n",
    "\n",
    "**Class**\n",
    "\n",
    "The class showed that people in first class had a better surviving ratio than those in second and third class. Being the third class the one with more people in it and with the lowest surviving ratio. The comparison show us that a person in third class had less chances to survive than one in first class.\n",
    "\n",
    "**Gender**\n",
    "\n",
    "Gender shows a similar pattern than the one we saw with class. There were much more males in the ship but still the number of women that survived was greater. Pie plot shows the ratio difference between two and it makes clear that in most of the cases women could have preference over men.\n",
    "\n",
    "**Age**\n",
    "\n",
    "Here we divided the passengers in groups, depending on the age to get easier to understand graphs. Checking the first plot we see that the survival ratio seems pretty good between age 0 and 15, where the lines of total (passengers/survivors) look pretty similar. From that point is where the ratio gets worse. We could get the conclusion that children from 0-15 had preference over adult people. If we check groups from 0 to 15 in pie graph we see that they together have a good ratio.\n",
    "\n",
    "**Summary**\n",
    "\n",
    "The comparison analysis shows that there could be a relationship between your chances to survive and those three variables, class, gender and age. It is important to mention that we are not working with the full data set. We have only 891 passengers when there were actually 2344 estimated passengers and crew. So, we are working with 26,4% of the data. Still, gender and class have pretty solid ratios so I wound't expect it to change that much. Age is a bit more difficult to just estimate by comparison with partial data, because even in our .csv some people don't have age recorded so we are working with even smaller data set.\n",
    "\n",
    "In order to check if my comparison analysis is correct I have run and independent samples t test on both gender and class tests. In both cases null hypothesis is rejected because the u1 - u2 is not 0. And the alternative, that says that u1 > u2 is accepted, because our t statistic is always much greated than t critical value.\n"
   ]
  }
 ],
 "metadata": {
  "kernelspec": {
   "display_name": "Python 2",
   "language": "python",
   "name": "python2"
  },
  "language_info": {
   "codemirror_mode": {
    "name": "ipython",
    "version": 2
   },
   "file_extension": ".py",
   "mimetype": "text/x-python",
   "name": "python",
   "nbconvert_exporter": "python",
   "pygments_lexer": "ipython2",
   "version": "2.7.11"
  }
 },
 "nbformat": 4,
 "nbformat_minor": 0
}
